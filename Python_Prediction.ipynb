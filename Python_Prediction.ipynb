{
 "cells": [
  {
   "cell_type": "code",
   "execution_count": 1,
   "id": "3aed50aa",
   "metadata": {},
   "outputs": [],
   "source": [
    "import pandas as pd\n",
    "import numpy as np\n",
    "import matplotlib.pyplot as plt\n",
    "import seaborn as sns\n",
    "from sklearn import linear_model\n",
    "import copy"
   ]
  },
  {
   "cell_type": "code",
   "execution_count": 2,
   "id": "b0ad50f8",
   "metadata": {},
   "outputs": [],
   "source": [
    "data=pd.read_csv('WC.csv')"
   ]
  },
  {
   "cell_type": "code",
   "execution_count": 3,
   "id": "ab0bdb1d",
   "metadata": {},
   "outputs": [
    {
     "data": {
      "text/html": [
       "<div>\n",
       "<style scoped>\n",
       "    .dataframe tbody tr th:only-of-type {\n",
       "        vertical-align: middle;\n",
       "    }\n",
       "\n",
       "    .dataframe tbody tr th {\n",
       "        vertical-align: top;\n",
       "    }\n",
       "\n",
       "    .dataframe thead th {\n",
       "        text-align: right;\n",
       "    }\n",
       "</style>\n",
       "<table border=\"1\" class=\"dataframe\">\n",
       "  <thead>\n",
       "    <tr style=\"text-align: right;\">\n",
       "      <th></th>\n",
       "      <th>Game_id</th>\n",
       "      <th>Team</th>\n",
       "      <th>Zone</th>\n",
       "      <th>Foot</th>\n",
       "      <th>Keeper</th>\n",
       "      <th>OnTarget</th>\n",
       "      <th>Goal</th>\n",
       "      <th>Penalty_Number</th>\n",
       "      <th>Elimination</th>\n",
       "    </tr>\n",
       "  </thead>\n",
       "  <tbody>\n",
       "    <tr>\n",
       "      <th>0</th>\n",
       "      <td>1</td>\n",
       "      <td>FRA</td>\n",
       "      <td>7.0</td>\n",
       "      <td>R</td>\n",
       "      <td>R</td>\n",
       "      <td>1.0</td>\n",
       "      <td>1.0</td>\n",
       "      <td>1</td>\n",
       "      <td>0.0</td>\n",
       "    </tr>\n",
       "    <tr>\n",
       "      <th>1</th>\n",
       "      <td>1</td>\n",
       "      <td>GER</td>\n",
       "      <td>9.0</td>\n",
       "      <td>R</td>\n",
       "      <td>C</td>\n",
       "      <td>1.0</td>\n",
       "      <td>1.0</td>\n",
       "      <td>2</td>\n",
       "      <td>0.0</td>\n",
       "    </tr>\n",
       "    <tr>\n",
       "      <th>2</th>\n",
       "      <td>1</td>\n",
       "      <td>FRA</td>\n",
       "      <td>6.0</td>\n",
       "      <td>R</td>\n",
       "      <td>L</td>\n",
       "      <td>1.0</td>\n",
       "      <td>1.0</td>\n",
       "      <td>3</td>\n",
       "      <td>0.0</td>\n",
       "    </tr>\n",
       "    <tr>\n",
       "      <th>3</th>\n",
       "      <td>1</td>\n",
       "      <td>GER</td>\n",
       "      <td>2.0</td>\n",
       "      <td>R</td>\n",
       "      <td>C</td>\n",
       "      <td>1.0</td>\n",
       "      <td>1.0</td>\n",
       "      <td>4</td>\n",
       "      <td>0.0</td>\n",
       "    </tr>\n",
       "    <tr>\n",
       "      <th>4</th>\n",
       "      <td>1</td>\n",
       "      <td>FRA</td>\n",
       "      <td>9.0</td>\n",
       "      <td>R</td>\n",
       "      <td>L</td>\n",
       "      <td>1.0</td>\n",
       "      <td>1.0</td>\n",
       "      <td>5</td>\n",
       "      <td>0.0</td>\n",
       "    </tr>\n",
       "  </tbody>\n",
       "</table>\n",
       "</div>"
      ],
      "text/plain": [
       "   Game_id Team  Zone Foot Keeper  OnTarget  Goal  Penalty_Number  Elimination\n",
       "0        1  FRA   7.0    R      R       1.0   1.0               1          0.0\n",
       "1        1  GER   9.0    R      C       1.0   1.0               2          0.0\n",
       "2        1  FRA   6.0    R      L       1.0   1.0               3          0.0\n",
       "3        1  GER   2.0    R      C       1.0   1.0               4          0.0\n",
       "4        1  FRA   9.0    R      L       1.0   1.0               5          0.0"
      ]
     },
     "execution_count": 3,
     "metadata": {},
     "output_type": "execute_result"
    }
   ],
   "source": [
    "data.head()"
   ]
  },
  {
   "cell_type": "code",
   "execution_count": 4,
   "id": "2d8920a6",
   "metadata": {},
   "outputs": [
    {
     "data": {
      "text/plain": [
       "(304, 9)"
      ]
     },
     "execution_count": 4,
     "metadata": {},
     "output_type": "execute_result"
    }
   ],
   "source": [
    "data.shape"
   ]
  },
  {
   "cell_type": "code",
   "execution_count": 5,
   "id": "25537a8b",
   "metadata": {
    "scrolled": true
   },
   "outputs": [
    {
     "name": "stdout",
     "output_type": "stream",
     "text": [
      "<class 'pandas.core.frame.DataFrame'>\n",
      "RangeIndex: 304 entries, 0 to 303\n",
      "Data columns (total 9 columns):\n",
      " #   Column          Non-Null Count  Dtype  \n",
      "---  ------          --------------  -----  \n",
      " 0   Game_id         304 non-null    int64  \n",
      " 1   Team            304 non-null    object \n",
      " 2   Zone            279 non-null    float64\n",
      " 3   Foot            279 non-null    object \n",
      " 4   Keeper          279 non-null    object \n",
      " 5   OnTarget        279 non-null    float64\n",
      " 6   Goal            279 non-null    float64\n",
      " 7   Penalty_Number  304 non-null    int64  \n",
      " 8   Elimination     280 non-null    float64\n",
      "dtypes: float64(4), int64(2), object(3)\n",
      "memory usage: 21.5+ KB\n"
     ]
    }
   ],
   "source": [
    "data.info()"
   ]
  },
  {
   "cell_type": "code",
   "execution_count": 6,
   "id": "0a365e7d",
   "metadata": {},
   "outputs": [],
   "source": [
    "data.dropna(inplace=True)"
   ]
  },
  {
   "cell_type": "code",
   "execution_count": 7,
   "id": "a7e7cf03",
   "metadata": {},
   "outputs": [
    {
     "data": {
      "text/plain": [
       "(279, 9)"
      ]
     },
     "execution_count": 7,
     "metadata": {},
     "output_type": "execute_result"
    }
   ],
   "source": [
    "data.shape"
   ]
  },
  {
   "cell_type": "code",
   "execution_count": 8,
   "id": "cff9ea75",
   "metadata": {},
   "outputs": [
    {
     "name": "stdout",
     "output_type": "stream",
     "text": [
      "<class 'pandas.core.frame.DataFrame'>\n",
      "Int64Index: 279 entries, 0 to 303\n",
      "Data columns (total 9 columns):\n",
      " #   Column          Non-Null Count  Dtype  \n",
      "---  ------          --------------  -----  \n",
      " 0   Game_id         279 non-null    int64  \n",
      " 1   Team            279 non-null    object \n",
      " 2   Zone            279 non-null    float64\n",
      " 3   Foot            279 non-null    object \n",
      " 4   Keeper          279 non-null    object \n",
      " 5   OnTarget        279 non-null    float64\n",
      " 6   Goal            279 non-null    float64\n",
      " 7   Penalty_Number  279 non-null    int64  \n",
      " 8   Elimination     279 non-null    float64\n",
      "dtypes: float64(4), int64(2), object(3)\n",
      "memory usage: 21.8+ KB\n"
     ]
    }
   ],
   "source": [
    "data.info()"
   ]
  },
  {
   "cell_type": "code",
   "execution_count": 9,
   "id": "b85eacd4",
   "metadata": {},
   "outputs": [
    {
     "data": {
      "text/html": [
       "<div>\n",
       "<style scoped>\n",
       "    .dataframe tbody tr th:only-of-type {\n",
       "        vertical-align: middle;\n",
       "    }\n",
       "\n",
       "    .dataframe tbody tr th {\n",
       "        vertical-align: top;\n",
       "    }\n",
       "\n",
       "    .dataframe thead th {\n",
       "        text-align: right;\n",
       "    }\n",
       "</style>\n",
       "<table border=\"1\" class=\"dataframe\">\n",
       "  <thead>\n",
       "    <tr style=\"text-align: right;\">\n",
       "      <th></th>\n",
       "      <th>Game_id</th>\n",
       "      <th>Team</th>\n",
       "      <th>Zone</th>\n",
       "      <th>Foot</th>\n",
       "      <th>Keeper</th>\n",
       "      <th>OnTarget</th>\n",
       "      <th>Goal</th>\n",
       "      <th>Penalty_Number</th>\n",
       "      <th>Elimination</th>\n",
       "    </tr>\n",
       "  </thead>\n",
       "  <tbody>\n",
       "    <tr>\n",
       "      <th>0</th>\n",
       "      <td>1</td>\n",
       "      <td>FRA</td>\n",
       "      <td>7.0</td>\n",
       "      <td>R</td>\n",
       "      <td>R</td>\n",
       "      <td>1.0</td>\n",
       "      <td>1.0</td>\n",
       "      <td>1</td>\n",
       "      <td>0.0</td>\n",
       "    </tr>\n",
       "    <tr>\n",
       "      <th>1</th>\n",
       "      <td>1</td>\n",
       "      <td>GER</td>\n",
       "      <td>9.0</td>\n",
       "      <td>R</td>\n",
       "      <td>C</td>\n",
       "      <td>1.0</td>\n",
       "      <td>1.0</td>\n",
       "      <td>2</td>\n",
       "      <td>0.0</td>\n",
       "    </tr>\n",
       "    <tr>\n",
       "      <th>2</th>\n",
       "      <td>1</td>\n",
       "      <td>FRA</td>\n",
       "      <td>6.0</td>\n",
       "      <td>R</td>\n",
       "      <td>L</td>\n",
       "      <td>1.0</td>\n",
       "      <td>1.0</td>\n",
       "      <td>3</td>\n",
       "      <td>0.0</td>\n",
       "    </tr>\n",
       "    <tr>\n",
       "      <th>3</th>\n",
       "      <td>1</td>\n",
       "      <td>GER</td>\n",
       "      <td>2.0</td>\n",
       "      <td>R</td>\n",
       "      <td>C</td>\n",
       "      <td>1.0</td>\n",
       "      <td>1.0</td>\n",
       "      <td>4</td>\n",
       "      <td>0.0</td>\n",
       "    </tr>\n",
       "    <tr>\n",
       "      <th>4</th>\n",
       "      <td>1</td>\n",
       "      <td>FRA</td>\n",
       "      <td>9.0</td>\n",
       "      <td>R</td>\n",
       "      <td>L</td>\n",
       "      <td>1.0</td>\n",
       "      <td>1.0</td>\n",
       "      <td>5</td>\n",
       "      <td>0.0</td>\n",
       "    </tr>\n",
       "  </tbody>\n",
       "</table>\n",
       "</div>"
      ],
      "text/plain": [
       "   Game_id Team  Zone Foot Keeper  OnTarget  Goal  Penalty_Number  Elimination\n",
       "0        1  FRA   7.0    R      R       1.0   1.0               1          0.0\n",
       "1        1  GER   9.0    R      C       1.0   1.0               2          0.0\n",
       "2        1  FRA   6.0    R      L       1.0   1.0               3          0.0\n",
       "3        1  GER   2.0    R      C       1.0   1.0               4          0.0\n",
       "4        1  FRA   9.0    R      L       1.0   1.0               5          0.0"
      ]
     },
     "execution_count": 9,
     "metadata": {},
     "output_type": "execute_result"
    }
   ],
   "source": [
    "data.head()"
   ]
  },
  {
   "cell_type": "code",
   "execution_count": 10,
   "id": "0491f9a8",
   "metadata": {},
   "outputs": [
    {
     "name": "stdout",
     "output_type": "stream",
     "text": [
      "[('Game_id', 0), ('Team', 1), ('Zone', 2), ('Foot', 3), ('Keeper', 4), ('OnTarget', 5), ('Goal', 6), ('Penalty_Number', 7), ('Elimination', 8)]\n",
      "['Game_id', 'Team', 'Zone', 'Foot', 'Keeper', 'OnTarget', 'Penalty_Number', 'Elimination', 'Goal']\n"
     ]
    }
   ],
   "source": [
    "column_mapping = [(x, data.columns.to_list().index(x)) for x in data.columns.to_list()]\n",
    "print(column_mapping)\n",
    "column_list = data.columns.to_list()\n",
    "column_list.remove('Goal')\n",
    "column_list.append('Goal')\n",
    "print(column_list)"
   ]
  },
  {
   "cell_type": "code",
   "execution_count": 11,
   "id": "254115b6",
   "metadata": {},
   "outputs": [
    {
     "data": {
      "text/html": [
       "<div>\n",
       "<style scoped>\n",
       "    .dataframe tbody tr th:only-of-type {\n",
       "        vertical-align: middle;\n",
       "    }\n",
       "\n",
       "    .dataframe tbody tr th {\n",
       "        vertical-align: top;\n",
       "    }\n",
       "\n",
       "    .dataframe thead th {\n",
       "        text-align: right;\n",
       "    }\n",
       "</style>\n",
       "<table border=\"1\" class=\"dataframe\">\n",
       "  <thead>\n",
       "    <tr style=\"text-align: right;\">\n",
       "      <th></th>\n",
       "      <th>Game_id</th>\n",
       "      <th>Team</th>\n",
       "      <th>Zone</th>\n",
       "      <th>Foot</th>\n",
       "      <th>Keeper</th>\n",
       "      <th>OnTarget</th>\n",
       "      <th>Penalty_Number</th>\n",
       "      <th>Elimination</th>\n",
       "      <th>Goal</th>\n",
       "    </tr>\n",
       "  </thead>\n",
       "  <tbody>\n",
       "    <tr>\n",
       "      <th>0</th>\n",
       "      <td>1</td>\n",
       "      <td>FRA</td>\n",
       "      <td>7.0</td>\n",
       "      <td>R</td>\n",
       "      <td>R</td>\n",
       "      <td>1.0</td>\n",
       "      <td>1</td>\n",
       "      <td>0.0</td>\n",
       "      <td>1.0</td>\n",
       "    </tr>\n",
       "    <tr>\n",
       "      <th>1</th>\n",
       "      <td>1</td>\n",
       "      <td>GER</td>\n",
       "      <td>9.0</td>\n",
       "      <td>R</td>\n",
       "      <td>C</td>\n",
       "      <td>1.0</td>\n",
       "      <td>2</td>\n",
       "      <td>0.0</td>\n",
       "      <td>1.0</td>\n",
       "    </tr>\n",
       "    <tr>\n",
       "      <th>2</th>\n",
       "      <td>1</td>\n",
       "      <td>FRA</td>\n",
       "      <td>6.0</td>\n",
       "      <td>R</td>\n",
       "      <td>L</td>\n",
       "      <td>1.0</td>\n",
       "      <td>3</td>\n",
       "      <td>0.0</td>\n",
       "      <td>1.0</td>\n",
       "    </tr>\n",
       "    <tr>\n",
       "      <th>3</th>\n",
       "      <td>1</td>\n",
       "      <td>GER</td>\n",
       "      <td>2.0</td>\n",
       "      <td>R</td>\n",
       "      <td>C</td>\n",
       "      <td>1.0</td>\n",
       "      <td>4</td>\n",
       "      <td>0.0</td>\n",
       "      <td>1.0</td>\n",
       "    </tr>\n",
       "    <tr>\n",
       "      <th>4</th>\n",
       "      <td>1</td>\n",
       "      <td>FRA</td>\n",
       "      <td>9.0</td>\n",
       "      <td>R</td>\n",
       "      <td>L</td>\n",
       "      <td>1.0</td>\n",
       "      <td>5</td>\n",
       "      <td>0.0</td>\n",
       "      <td>1.0</td>\n",
       "    </tr>\n",
       "  </tbody>\n",
       "</table>\n",
       "</div>"
      ],
      "text/plain": [
       "   Game_id Team  Zone Foot Keeper  OnTarget  Penalty_Number  Elimination  Goal\n",
       "0        1  FRA   7.0    R      R       1.0               1          0.0   1.0\n",
       "1        1  GER   9.0    R      C       1.0               2          0.0   1.0\n",
       "2        1  FRA   6.0    R      L       1.0               3          0.0   1.0\n",
       "3        1  GER   2.0    R      C       1.0               4          0.0   1.0\n",
       "4        1  FRA   9.0    R      L       1.0               5          0.0   1.0"
      ]
     },
     "execution_count": 11,
     "metadata": {},
     "output_type": "execute_result"
    }
   ],
   "source": [
    "data = data.reindex(columns=column_list)\n",
    "data.head()"
   ]
  },
  {
   "cell_type": "code",
   "execution_count": 12,
   "id": "717bec52",
   "metadata": {},
   "outputs": [],
   "source": [
    "data = data.drop(['Game_id', 'Team', 'OnTarget', 'Elimination','Penalty_Number'], axis=1)"
   ]
  },
  {
   "cell_type": "code",
   "execution_count": 13,
   "id": "52960e87",
   "metadata": {},
   "outputs": [
    {
     "data": {
      "text/html": [
       "<div>\n",
       "<style scoped>\n",
       "    .dataframe tbody tr th:only-of-type {\n",
       "        vertical-align: middle;\n",
       "    }\n",
       "\n",
       "    .dataframe tbody tr th {\n",
       "        vertical-align: top;\n",
       "    }\n",
       "\n",
       "    .dataframe thead th {\n",
       "        text-align: right;\n",
       "    }\n",
       "</style>\n",
       "<table border=\"1\" class=\"dataframe\">\n",
       "  <thead>\n",
       "    <tr style=\"text-align: right;\">\n",
       "      <th></th>\n",
       "      <th>Zone</th>\n",
       "      <th>Foot</th>\n",
       "      <th>Keeper</th>\n",
       "      <th>Goal</th>\n",
       "    </tr>\n",
       "  </thead>\n",
       "  <tbody>\n",
       "    <tr>\n",
       "      <th>0</th>\n",
       "      <td>7.0</td>\n",
       "      <td>R</td>\n",
       "      <td>R</td>\n",
       "      <td>1.0</td>\n",
       "    </tr>\n",
       "    <tr>\n",
       "      <th>1</th>\n",
       "      <td>9.0</td>\n",
       "      <td>R</td>\n",
       "      <td>C</td>\n",
       "      <td>1.0</td>\n",
       "    </tr>\n",
       "    <tr>\n",
       "      <th>2</th>\n",
       "      <td>6.0</td>\n",
       "      <td>R</td>\n",
       "      <td>L</td>\n",
       "      <td>1.0</td>\n",
       "    </tr>\n",
       "    <tr>\n",
       "      <th>3</th>\n",
       "      <td>2.0</td>\n",
       "      <td>R</td>\n",
       "      <td>C</td>\n",
       "      <td>1.0</td>\n",
       "    </tr>\n",
       "    <tr>\n",
       "      <th>4</th>\n",
       "      <td>9.0</td>\n",
       "      <td>R</td>\n",
       "      <td>L</td>\n",
       "      <td>1.0</td>\n",
       "    </tr>\n",
       "  </tbody>\n",
       "</table>\n",
       "</div>"
      ],
      "text/plain": [
       "   Zone Foot Keeper  Goal\n",
       "0   7.0    R      R   1.0\n",
       "1   9.0    R      C   1.0\n",
       "2   6.0    R      L   1.0\n",
       "3   2.0    R      C   1.0\n",
       "4   9.0    R      L   1.0"
      ]
     },
     "execution_count": 13,
     "metadata": {},
     "output_type": "execute_result"
    }
   ],
   "source": [
    "data.head()"
   ]
  },
  {
   "cell_type": "code",
   "execution_count": 14,
   "id": "e17dc0b8",
   "metadata": {},
   "outputs": [],
   "source": [
    "data['Foot'] = data['Foot'].astype('category').cat.codes\n",
    "data['Keeper'] = data['Keeper'].astype('category').cat.codes\n",
    "\n",
    "X = data[['Zone', 'Foot', 'Keeper']]\n",
    "y = data['Goal']\n"
   ]
  },
  {
   "cell_type": "code",
   "execution_count": 15,
   "id": "e54ef87b",
   "metadata": {},
   "outputs": [
    {
     "data": {
      "image/png": "[encoded data removed]",
      "text/plain": [
       "<Figure size 640x480 with 1 Axes>"
      ]
     },
     "metadata": {},
     "output_type": "display_data"
    }
   ],
   "source": [
    "import matplotlib.pyplot as plt\n",
    "import seaborn as sns\n",
    "\n",
    "zone_probs = data.groupby('Zone')['Goal'].mean().reset_index()\n",
    "\n",
    "sns.barplot(x='Zone', y='Goal', data=zone_probs)\n",
    "plt.title('Probability of scoring in each zone')\n",
    "plt.xlabel('Zone')\n",
    "plt.ylabel('Probability of goal')\n",
    "plt.show()"
   ]
  },
  {
   "cell_type": "code",
   "execution_count": 16,
   "id": "381d6a39",
   "metadata": {},
   "outputs": [
    {
     "name": "stdout",
     "output_type": "stream",
     "text": [
      "Probability of scoring in each zone is: Zone\n",
      "1.0    0.750000\n",
      "2.0    0.578947\n",
      "3.0    0.875000\n",
      "4.0    0.750000\n",
      "5.0    0.611111\n",
      "6.0    0.757576\n",
      "7.0    0.634921\n",
      "8.0    0.600000\n",
      "9.0    0.739130\n",
      "Name: Goal, dtype: float64\n"
     ]
    }
   ],
   "source": [
    "zone_probs = data.groupby('Zone')['Goal'].mean()\n",
    "print('Probability of scoring in each zone is:', zone_probs)"
   ]
  },
  {
   "cell_type": "code",
   "execution_count": 17,
   "id": "d0f233b3",
   "metadata": {},
   "outputs": [],
   "source": [
    "import pandas as pd\n",
    "import numpy as np\n",
    "from sklearn.linear_model import LogisticRegression\n",
    "from sklearn.metrics import mean_squared_error, r2_score\n",
    "from scipy.stats import sem, t\n",
    "\n",
    "# Load the test data\n",
    "test_data = pd.read_csv('2022.csv')\n",
    "\n"
   ]
  },
  {
   "cell_type": "code",
   "execution_count": 18,
   "id": "3440a278",
   "metadata": {},
   "outputs": [
    {
     "data": {
      "text/html": [
       "<div>\n",
       "<style scoped>\n",
       "    .dataframe tbody tr th:only-of-type {\n",
       "        vertical-align: middle;\n",
       "    }\n",
       "\n",
       "    .dataframe tbody tr th {\n",
       "        vertical-align: top;\n",
       "    }\n",
       "\n",
       "    .dataframe thead th {\n",
       "        text-align: right;\n",
       "    }\n",
       "</style>\n",
       "<table border=\"1\" class=\"dataframe\">\n",
       "  <thead>\n",
       "    <tr style=\"text-align: right;\">\n",
       "      <th></th>\n",
       "      <th>Penalty_Number</th>\n",
       "      <th>Zone</th>\n",
       "      <th>Foot</th>\n",
       "      <th>Keeper</th>\n",
       "      <th>Goal</th>\n",
       "    </tr>\n",
       "  </thead>\n",
       "  <tbody>\n",
       "    <tr>\n",
       "      <th>0</th>\n",
       "      <td>1</td>\n",
       "      <td>9</td>\n",
       "      <td>R</td>\n",
       "      <td>R</td>\n",
       "      <td>0</td>\n",
       "    </tr>\n",
       "    <tr>\n",
       "      <th>1</th>\n",
       "      <td>2</td>\n",
       "      <td>2</td>\n",
       "      <td>R</td>\n",
       "      <td>L</td>\n",
       "      <td>1</td>\n",
       "    </tr>\n",
       "    <tr>\n",
       "      <th>2</th>\n",
       "      <td>3</td>\n",
       "      <td>8</td>\n",
       "      <td>L</td>\n",
       "      <td>L</td>\n",
       "      <td>1</td>\n",
       "    </tr>\n",
       "    <tr>\n",
       "      <th>3</th>\n",
       "      <td>4</td>\n",
       "      <td>7</td>\n",
       "      <td>R</td>\n",
       "      <td>L</td>\n",
       "      <td>1</td>\n",
       "    </tr>\n",
       "    <tr>\n",
       "      <th>4</th>\n",
       "      <td>5</td>\n",
       "      <td>7</td>\n",
       "      <td>R</td>\n",
       "      <td>R</td>\n",
       "      <td>1</td>\n",
       "    </tr>\n",
       "  </tbody>\n",
       "</table>\n",
       "</div>"
      ],
      "text/plain": [
       "   Penalty_Number  Zone Foot Keeper  Goal\n",
       "0               1     9    R      R     0\n",
       "1               2     2    R      L     1\n",
       "2               3     8    L      L     1\n",
       "3               4     7    R      L     1\n",
       "4               5     7    R      R     1"
      ]
     },
     "execution_count": 18,
     "metadata": {},
     "output_type": "execute_result"
    }
   ],
   "source": [
    "test_data.head()"
   ]
  },
  {
   "cell_type": "code",
   "execution_count": 19,
   "id": "0a327edd",
   "metadata": {},
   "outputs": [],
   "source": [
    "\n",
    "# Preprocess test_data\n",
    "test_data.dropna(inplace=True)\n",
    "test_data = test_data.reindex(columns=column_list)\n",
    "test_data = test_data.drop(['Game_id', 'Team', 'OnTarget', 'Elimination','Penalty_Number'], axis=1)\n",
    "test_data['Foot'] = test_data['Foot'].astype('category').cat.codes\n",
    "test_data['Keeper'] = test_data['Keeper'].astype('category').cat.codes\n",
    "\n",
    "# Load trained model\n",
    "model = LogisticRegression()\n",
    "\n",
    "\n",
    "# Fit the model \n",
    "model.fit(X, y)\n",
    "\n",
    "# Use the model to make predictions on the new data\n",
    "y_pred = model.predict(test_data[['Zone', 'Foot', 'Keeper']])\n"
   ]
  },
  {
   "cell_type": "code",
   "execution_count": 20,
   "id": "d48ae99c",
   "metadata": {},
   "outputs": [
    {
     "name": "stdout",
     "output_type": "stream",
     "text": [
      "Accuracy: 73.08%\n"
     ]
    }
   ],
   "source": [
    "from sklearn.metrics import log_loss, accuracy_score\n",
    "\n",
    "# Calculate the accuracy\n",
    "accuracy = accuracy_score(test_data['Goal'], y_pred)\n",
    "\n",
    "print(\"Accuracy: {:.2%}\".format(accuracy))\n",
    "\n"
   ]
  },
  {
   "cell_type": "code",
   "execution_count": 21,
   "id": "9ca4e457",
   "metadata": {},
   "outputs": [
    {
     "name": "stdout",
     "output_type": "stream",
     "text": [
      "95% Confidence Interval: [53.85%, 88.46%]\n"
     ]
    }
   ],
   "source": [
    "## Bootstrap for confidence interval\n",
    "import numpy as np\n",
    "from sklearn.utils import resample\n",
    "\n",
    "n_bootstraps = 1000\n",
    "\n",
    "# Define an empty list to store the bootstrap accuracies\n",
    "bootstrap_accuracies = []\n",
    "\n",
    "# Perform the bootstrap\n",
    "for i in range(n_bootstraps):\n",
    "    # Resample the test data with replacement\n",
    "    resampled_data = resample(test_data, replace=True, random_state=i)\n",
    "    # Make predictions on the resampled data\n",
    "    y_pred_resampled = model.predict(resampled_data[['Zone', 'Foot', 'Keeper']])\n",
    "    # Calculate the accuracy of the predictions\n",
    "    resampled_accuracy = accuracy_score(resampled_data['Goal'], y_pred_resampled)\n",
    "    # Add the accuracy to the list\n",
    "    bootstrap_accuracies.append(resampled_accuracy)\n",
    "\n",
    "# Calculate the lower and upper bounds of the 95% confidence interval\n",
    "lower_bound = np.percentile(bootstrap_accuracies, 2.5)\n",
    "upper_bound = np.percentile(bootstrap_accuracies, 97.5)\n",
    "\n",
    "print(\"95% Confidence Interval: [{:.2%}, {:.2%}]\".format(lower_bound, upper_bound))\n",
    "\n",
    "    "
   ]
  }
 ],
 "metadata": {
  "kernelspec": {
   "display_name": "Python 3 (ipykernel)",
   "language": "python",
   "name": "python3"
  },
  "language_info": {
   "codemirror_mode": {
    "name": "ipython",
    "version": 3
   },
   "file_extension": ".py",
   "mimetype": "text/x-python",
   "name": "python",
   "nbconvert_exporter": "python",
   "pygments_lexer": "ipython3",
   "version": "3.10.6"
  }
 },
 "nbformat": 4,
 "nbformat_minor": 5
}
